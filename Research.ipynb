{
 "cells": [
  {
   "cell_type": "code",
   "execution_count": 1,
   "metadata": {},
   "outputs": [
    {
     "name": "stderr",
     "output_type": "stream",
     "text": [
      "C:\\Users\\josem\\anaconda3\\lib\\site-packages\\gensim\\similarities\\__init__.py:15: UserWarning: The gensim.similarities.levenshtein submodule is disabled, because the optional Levenshtein package <https://pypi.org/project/python-Levenshtein/> is unavailable. Install Levenhstein (e.g. `pip install python-Levenshtein`) to suppress this warning.\n",
      "  warnings.warn(msg)\n"
     ]
    }
   ],
   "source": [
    "import fasttext\n",
    "import fasttext.util\n",
    "import gensim\n",
    "from gensim.models import FastText"
   ]
  },
  {
   "cell_type": "code",
   "execution_count": 2,
   "metadata": {},
   "outputs": [],
   "source": [
    "#Grado similaridad\n",
    "#Numero de sinonimos en común\n",
    "#Número de antónimos en común\n",
    "#Relación con los sinonimos\n",
    "#Relación con los antónimos\n",
    "#Palabras comunes en la definición\n",
    "#Familia semántica\n",
    "#Número de palabras entre la pista y la evaluada(s)"
   ]
  },
  {
   "cell_type": "code",
   "execution_count": 6,
   "metadata": {},
   "outputs": [],
   "source": [
    "%%capture\n",
    "FAST_TEXT_MODEL = \"cc.en.300.bin\" # Model name in fasttext\n",
    "\n",
    "fasttext.util.download_model('en', if_exists='ignore')  # English\n",
    "ft = fasttext.load_model(FAST_TEXT_MODEL)"
   ]
  },
  {
   "cell_type": "code",
   "execution_count": 7,
   "metadata": {},
   "outputs": [
    {
     "data": {
      "text/plain": [
       "[(0.6984261274337769, 'life-'),\n",
       " (0.6904193162918091, 'lives'),\n",
       " (0.6745699644088745, 'life.But'),\n",
       " (0.6679530143737793, 'life.It'),\n",
       " (0.6632518768310547, 'life.The'),\n",
       " (0.6621710062026978, 'life.In'),\n",
       " (0.6610385775566101, 'life.Now'),\n",
       " (0.652584969997406, 'life.So'),\n",
       " (0.6445083022117615, 'life.That'),\n",
       " (0.643845796585083, 'life--and')]"
      ]
     },
     "execution_count": 7,
     "metadata": {},
     "output_type": "execute_result"
    }
   ],
   "source": [
    "ft.get_nearest_neighbors('life')"
   ]
  },
  {
   "cell_type": "code",
   "execution_count": 8,
   "metadata": {},
   "outputs": [
    {
     "name": "stderr",
     "output_type": "stream",
     "text": [
      "<ipython-input-8-24f7e452dabd>:1: DeprecationWarning: Call to deprecated `load_fasttext_format` (use load_facebook_vectors (to use pretrained embeddings) or load_facebook_model (to continue training with the loaded full model, more RAM) instead).\n",
      "  model = FastText.load_fasttext_format(FAST_TEXT_MODEL)\n"
     ]
    },
    {
     "data": {
      "text/plain": [
       "[('blue', 0.8273436427116394),\n",
       " ('yellow', 0.8116556406021118),\n",
       " ('purple', 0.7858150005340576),\n",
       " ('orange', 0.7306221723556519),\n",
       " ('greeen', 0.698380172252655),\n",
       " ('pink', 0.6954873204231262),\n",
       " ('green-colored', 0.6573896408081055),\n",
       " ('white', 0.6534684300422668),\n",
       " ('blue-green', 0.6492818593978882),\n",
       " ('green-ish', 0.6438031196594238)]"
      ]
     },
     "execution_count": 8,
     "metadata": {},
     "output_type": "execute_result"
    }
   ],
   "source": [
    "model = FastText.load_fasttext_format(FAST_TEXT_MODEL)\n",
    "model.wv.most_similar(positive=['red', 'green'])"
   ]
  },
  {
   "cell_type": "code",
   "execution_count": null,
   "metadata": {},
   "outputs": [],
   "source": []
  }
 ],
 "metadata": {
  "kernelspec": {
   "display_name": "Python 3",
   "language": "python",
   "name": "python3"
  },
  "language_info": {
   "codemirror_mode": {
    "name": "ipython",
    "version": 3
   },
   "file_extension": ".py",
   "mimetype": "text/x-python",
   "name": "python",
   "nbconvert_exporter": "python",
   "pygments_lexer": "ipython3",
   "version": "3.8.3"
  }
 },
 "nbformat": 4,
 "nbformat_minor": 5
}
