{
 "cells": [
  {
   "cell_type": "code",
   "execution_count": 12,
   "id": "b6751b63",
   "metadata": {},
   "outputs": [],
   "source": [
    "import fasttext\n",
    "import fasttext.util\n",
    "import gensim\n",
    "from gensim.models import FastText"
   ]
  },
  {
   "cell_type": "code",
   "execution_count": 2,
   "id": "e8b1510d",
   "metadata": {},
   "outputs": [],
   "source": [
    "#Grado similaridad\n",
    "#Numero de sinonimos en común\n",
    "#Número de antónimos en común\n",
    "#Relación con los sinonimos\n",
    "#Relación con los antónimos\n",
    "#Palabras comunes en la definición\n",
    "#Familia semántica\n",
    "#Número de palabras entre la pista y la evaluada(s)"
   ]
  },
  {
   "cell_type": "code",
   "execution_count": 3,
   "id": "59df7c30",
   "metadata": {},
   "outputs": [],
   "source": [
    "FAST_TEXT_MODEL = \"cc.en.300.bin\" # Model name in fasttext\n",
    "\n",
    "fasttext.util.download_model('en', if_exists='ignore')  # English\n",
    "ft = fasttext.load_model(FAST_TEXT_MODEL)"
   ]
  },
  {
   "cell_type": "code",
   "execution_count": 8,
   "id": "549a9e4e",
   "metadata": {},
   "outputs": [
    {
     "data": {
      "text/plain": [
       "[(0.6984261274337769, 'life-'),\n",
       " (0.6904193162918091, 'lives'),\n",
       " (0.6745699644088745, 'life.But'),\n",
       " (0.6679530143737793, 'life.It'),\n",
       " (0.6632518768310547, 'life.The'),\n",
       " (0.6621710062026978, 'life.In'),\n",
       " (0.6610385775566101, 'life.Now'),\n",
       " (0.652584969997406, 'life.So'),\n",
       " (0.6445083022117615, 'life.That'),\n",
       " (0.643845796585083, 'life--and')]"
      ]
     },
     "execution_count": 8,
     "metadata": {},
     "output_type": "execute_result"
    }
   ],
   "source": [
    "ft.get_nearest_neighbors('life')"
   ]
  },
  {
   "cell_type": "code",
   "execution_count": null,
   "id": "d7fe1103",
   "metadata": {},
   "outputs": [
    {
     "name": "stderr",
     "output_type": "stream",
     "text": [
      "C:\\Users\\josem\\AppData\\Local\\Temp\\ipykernel_9908\\974831244.py:1: DeprecationWarning: Call to deprecated `load_fasttext_format` (use load_facebook_vectors (to use pretrained embeddings) or load_facebook_model (to continue training with the loaded full model, more RAM) instead).\n",
      "  model = FastText.load_fasttext_format(FAST_TEXT_MODEL)\n"
     ]
    }
   ],
   "source": [
    "model = FastText.load_fasttext_format(FAST_TEXT_MODEL)\n",
    "model.wv.most_similar(positive=['red', 'green'])"
   ]
  },
  {
   "cell_type": "code",
   "execution_count": null,
   "id": "942b62df",
   "metadata": {},
   "outputs": [],
   "source": []
  }
 ],
 "metadata": {
  "kernelspec": {
   "display_name": "Python 3 (ipykernel)",
   "language": "python",
   "name": "python3"
  },
  "language_info": {
   "codemirror_mode": {
    "name": "ipython",
    "version": 3
   },
   "file_extension": ".py",
   "mimetype": "text/x-python",
   "name": "python",
   "nbconvert_exporter": "python",
   "pygments_lexer": "ipython3",
   "version": "3.9.12"
  }
 },
 "nbformat": 4,
 "nbformat_minor": 5
}
